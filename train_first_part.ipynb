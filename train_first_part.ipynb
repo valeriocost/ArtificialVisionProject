{
  "cells": [
    {
      "cell_type": "markdown",
      "source": [
        "# Guess the age 2022-2023\n",
        "Group 9:\n",
        "*   Antonello Avella\n",
        "*   Eugenio Carpentieri\n",
        "*   Valerio Costantino\n",
        "*   Claudio De Pisapia\n",
        "\n"
      ],
      "metadata": {
        "id": "eB-pLWekVzqk"
      }
    },
    {
      "cell_type": "markdown",
      "source": [
        "## Init"
      ],
      "metadata": {
        "id": "JEEaBHWsV2GO"
      }
    },
    {
      "cell_type": "code",
      "execution_count": null,
      "metadata": {
        "id": "khnG5-fNNZNb"
      },
      "outputs": [],
      "source": [
        "%pip install deepface opencv-python scipy keras_vggface tensorflow keras_applications scikit-learn"
      ]
    },
    {
      "cell_type": "code",
      "execution_count": null,
      "metadata": {
        "colab": {
          "base_uri": "https://localhost:8080/"
        },
        "id": "aN7SP5uIJRCo",
        "outputId": "6676f8fb-1af9-4d67-a2be-56942f4e1da3"
      },
      "outputs": [
        {
          "name": "stdout",
          "output_type": "stream",
          "text": [
            "Mounted at /content/gdrive\n"
          ]
        }
      ],
      "source": [
        "from google.colab import drive\n",
        "\n",
        "drive.mount('/content/gdrive')"
      ]
    },
    {
      "cell_type": "code",
      "execution_count": null,
      "metadata": {
        "id": "4mBKqxKubz6l"
      },
      "outputs": [],
      "source": [
        "import cv2\n",
        "import numpy as np\n",
        "\n",
        "from keras.callbacks import EarlyStopping, TensorBoard, ModelCheckpoint\n",
        "from keras.models import Model\n",
        "from keras.layers import Input, Dense, Concatenate, Flatten\n",
        "\n",
        "from keras.utils import plot_model\n",
        "import tensorflow as tf\n",
        "import numpy as np\n",
        "from keras.preprocessing.image import ImageDataGenerator\n",
        "import pandas as pd\n",
        "import keras"
      ]
    },
    {
      "cell_type": "markdown",
      "metadata": {
        "id": "Lar_mUbqXCDL"
      },
      "source": [
        "## Dataset loading and Generator"
      ]
    },
    {
      "cell_type": "code",
      "execution_count": null,
      "metadata": {
        "id": "0v5ILbajsEnp"
      },
      "outputs": [],
      "source": [
        "%cd '/content'"
      ]
    },
    {
      "cell_type": "code",
      "execution_count": null,
      "metadata": {
        "id": "Uekg3CfxXDya"
      },
      "outputs": [],
      "source": [
        "# DOWNLOAD THE FULL DATASET FROM KAGGLE\n",
        "# To execute properly this cell you must be in \"/content\" folder.\n",
        "# Moreover, inside \"/content\" folder ther must be a file named 'kaggle.json' (thanks to which the download can start).\n",
        "# At the end of download, you can find the full dataset in \"/content/dataset/training_caip_contest\".\n",
        "\n",
        "!pip install -q kaggle\n",
        "!rm -r ~/.kaggle \n",
        "!mkdir ~/.kaggle\n",
        "!mkdir dataset\n",
        "!cp kaggle.json ~/.kaggle/\n",
        "!chmod 600 ~/.kaggle/kaggle.json\n",
        "!kaggle datasets download -d robertofalcone/gta2022dataset \n",
        "!unzip gta2022dataset.zip -d dataset \n",
        "\n",
        "# You should also upload 'training_caip_contest.csv' in \"/content/dataset/\" in order to execute the next cells."
      ]
    },
    {
      "cell_type": "code",
      "execution_count": null,
      "metadata": {
        "id": "OJliwC9HF9UO"
      },
      "outputs": [],
      "source": [
        "data_dir = './training_caip_contest/' #change to choose a different training set"
      ]
    },
    {
      "cell_type": "code",
      "execution_count": null,
      "metadata": {
        "colab": {
          "base_uri": "https://localhost:8080/"
        },
        "id": "zHK4yko4O1mg",
        "outputId": "beeec3ea-0ca8-439c-a60e-742cb7635eb3"
      },
      "outputs": [
        {
          "name": "stdout",
          "output_type": "stream",
          "text": [
            "     age   count\n",
            "0   0-10    2008\n",
            "1  11-20   28517\n",
            "2  21-30  147443\n",
            "3  31-40  150010\n",
            "4  41-50  128253\n",
            "5  51-60   88489\n",
            "6  61-70   27871\n",
            "7    70+    2482\n"
          ]
        }
      ],
      "source": [
        "df = pd.read_csv('./training_caip_contest.csv', names=['path', 'age'])\n",
        "df.loc[np.less_equal(df['age'],10), 'group'] = '1'\n",
        "df.loc[np.logical_and(df['age'].gt(10), np.less_equal(df['age'],20)), 'group'] = '2'\n",
        "df.loc[np.logical_and(df['age'].gt(20), np.less_equal(df['age'],30)), 'group'] = '3'\n",
        "df.loc[np.logical_and(df['age'].gt(30), np.less_equal(df['age'],40)), 'group'] = '4'\n",
        "df.loc[np.logical_and(df['age'].gt(40), np.less_equal(df['age'],50)), 'group'] = '5'\n",
        "df.loc[np.logical_and(df['age'].gt(50), np.less_equal(df['age'],60)), 'group'] = '6'\n",
        "df.loc[np.logical_and(df['age'].gt(60), np.less_equal(df['age'],70)), 'group'] = '7'\n",
        "df.loc[df['age'].gt(70), 'group'] = '8'\n",
        "\n",
        "bins = [-1, 10, 20, 30, 40, 50, 60, 70, np.inf]\n",
        "labels=['0-10','11-20','21-30', '31-40', '41-50', '51-60', '61-70', '70+']\n",
        "count_groups = df.groupby(pd.cut(df['age'], bins=bins, labels=labels)).size().reset_index(name='count')\n",
        "print(count_groups)"
      ]
    },
    {
      "cell_type": "code",
      "execution_count": null,
      "metadata": {
        "id": "0eouSS_aObWI"
      },
      "outputs": [],
      "source": [
        "class CustomDataGen(tf.keras.utils.Sequence):\n",
        "    def __init__(self, df, X_col, y_col,\n",
        "                 batch_size,\n",
        "                 input_size=(224, 224, 3),\n",
        "                 shuffle=True,\n",
        "                 dataset_path=\"./\"\n",
        "                 ):\n",
        "        self.df = df.copy()\n",
        "        self.X_col = X_col\n",
        "        self.y_col = y_col\n",
        "        self.batch_size = batch_size\n",
        "        self.input_size = input_size\n",
        "        self.shuffle = shuffle\n",
        "        self.n = len(self.df)\n",
        "        self.n_group_age = df[y_col['group']].nunique()\n",
        "        self.random_state = np.random.RandomState(1)\n",
        "        self.dataset_path = dataset_path\n",
        "        self.data_aug = ImageDataGenerator(brightness_range=[0.5,1.0], horizontal_flip=True, fill_mode='nearest')\n",
        "\n",
        "    def on_epoch_end(self):\n",
        "        if self.shuffle:\n",
        "            self.df = self.df.sample(frac=1).reset_index(drop=True)\n",
        "\n",
        "    def __get_input(self, path, target_size):\n",
        "        image = tf.keras.preprocessing.image.load_img(self.dataset_path + path)\n",
        "        image_arr = tf.keras.preprocessing.image.img_to_array(image)\n",
        "        image_arr = tf.image.resize(image_arr,(target_size[0], target_size[1])).numpy()\n",
        "        augment = np.random.choice(a=[True, False])\n",
        "        if augment:\n",
        "          image_arr = np.expand_dims(image_arr, 0)\n",
        "          it = self.data_aug.flow(image_arr, batch_size=1)\n",
        "          image_arr = it.next()\n",
        "          image_arr = np.squeeze(image_arr, axis=0)\n",
        "        return image_arr/255.\n",
        "\n",
        "    def __get_output(self, label):\n",
        "        return np.array(label/100.)\n",
        "\n",
        "    def __get_data(self, batches):\n",
        "        # Generates data containing batch_size samples\n",
        "        path_batch = batches[self.X_col['path']]\n",
        "        age_batch = batches[self.y_col['age']]\n",
        "        X_batch = np.asarray([self.__get_input(path, self.input_size) for path in path_batch])\n",
        "        y_batch = np.asarray([self.__get_output(age) for age in age_batch])\n",
        "        return X_batch, y_batch\n",
        "\n",
        "    def __getitem__(self, index):\n",
        "        grouped = self.df.groupby(self.y_col['group'])\n",
        "        batches = pd.DataFrame()\n",
        "        for i in range(1,9):\n",
        "          length = len(grouped.get_group(str(i)))\n",
        "          first_index = int(index*(batch_size//self.n_group_age)%length)\n",
        "          final_index = int((index + 1)*(batch_size//self.n_group_age)%length)\n",
        "          if first_index > final_index:\n",
        "            batches = pd.concat([batches, grouped.get_group(str(i)).iloc[first_index:], grouped.get_group(str(i)).iloc[:final_index]])\n",
        "          else:  \n",
        "            batches = pd.concat([batches, grouped.get_group(str(i)).iloc[first_index:final_index]])\n",
        "        X, y = self.__get_data(batches)        \n",
        "        return X, y\n",
        "\n",
        "    def __len__(self):\n",
        "        return self.n // self.batch_size"
      ]
    },
    {
      "cell_type": "code",
      "execution_count": null,
      "metadata": {
        "id": "xWyjcuMSdfoH"
      },
      "outputs": [],
      "source": [
        "val_df = df.groupby('group').sample(frac=.2, random_state=1)\n",
        "merged = pd.merge(df, val_df, how='outer', indicator=True)\n",
        "train_df = merged.loc[merged._merge == 'left_only'].drop('_merge', axis=1)\n",
        "\n",
        "bins = [-1, 10, 20, 30, 40, 50, 60, 70, np.inf]\n",
        "labels=['0-10','11-20','21-30', '31-40', '41-50', '51-60', '61-70', '70+']\n",
        "count_train_groups = train_df.groupby(pd.cut(train_df['age'], bins=bins, labels=labels)).size().reset_index(name='count')\n",
        "count_val_groups = val_df.groupby(pd.cut(val_df['age'], bins=bins, labels=labels)).size().reset_index(name='count')\n",
        "\n",
        "n_train_samples = len(train_df)\n",
        "n_val_samples = len(val_df)\n",
        "\n",
        "print(count_train_groups)\n",
        "print(count_val_groups)"
      ]
    },
    {
      "cell_type": "code",
      "execution_count": null,
      "metadata": {
        "id": "paoaakZJHYwE"
      },
      "outputs": [],
      "source": [
        "img_width, img_height = 299, 299   # resize dimensions of our images\n",
        "batch_size = 32                   # number of images in a batch\n",
        "\n",
        "%cd /content/dataset/training_caip_contest\n",
        "\n",
        "train_gen = CustomDataGen(train_df,\n",
        "                         X_col={'path':'path'},\n",
        "                         y_col={'age': 'age', 'group': 'group'},\n",
        "                         batch_size=batch_size, input_size=(img_width, img_height, 3))\n",
        "val_gen = CustomDataGen(val_df,\n",
        "                         X_col={'path':'path'},\n",
        "                         y_col={'age': 'age', 'group': 'group'},\n",
        "                         batch_size=batch_size, input_size=(img_width, img_height, 3))"
      ]
    },
    {
      "cell_type": "markdown",
      "metadata": {
        "id": "Iwtem1wm3SsT"
      },
      "source": [
        "## Loss function"
      ]
    },
    {
      "cell_type": "code",
      "execution_count": null,
      "metadata": {
        "id": "2Q83PFBg3a0m"
      },
      "outputs": [],
      "source": [
        "@tf.function\n",
        "def AAR_loss(y_true, y_pred):\n",
        "    y_true = tf.cast(y_true, tf.float32)\n",
        "    y_pred = tf.cast(y_pred, tf.float32)\n",
        "    mae_fun = tf.keras.losses.MeanAbsoluteError()\n",
        "    mae = mae_fun(y_true, y_pred)\n",
        "\n",
        "    condition = tf.less_equal(y_true, 0.1)\n",
        "    indices = tf.where(condition)\n",
        "    mae_1 = mae_fun(tf.gather(y_true, indices), tf.gather(y_pred, indices))\n",
        "    mae_diff_1 = tf.square(mae_1-mae)\n",
        "\n",
        "    condition1 = tf.less_equal(y_true, 0.2)\n",
        "    condition2 = tf.greater(y_true, 0.1)\n",
        "    condition = tf.logical_and(condition1, condition2)\n",
        "    indices = tf.where(condition)\n",
        "    mae_2 = mae_fun(tf.gather(y_true, indices), tf.gather(y_pred, indices))\n",
        "    mae_diff_2 = tf.square(mae_2-mae)\n",
        "\n",
        "    condition1 = tf.less_equal(y_true, 0.3)\n",
        "    condition2 = tf.greater(y_true, 0.2)\n",
        "    condition = tf.logical_and(condition1, condition2)\n",
        "    indices = tf.where(condition)\n",
        "    mae_3 = mae_fun(tf.gather(y_true, indices), tf.gather(y_pred, indices))\n",
        "    mae_diff_3 = tf.square(mae_3-mae)\n",
        "\n",
        "    condition1 = tf.less_equal(y_true, 0.4)\n",
        "    condition2 = tf.greater(y_true, 0.3)\n",
        "    condition = tf.logical_and(condition1, condition2)\n",
        "    indices = tf.where(condition)\n",
        "    mae_4 = mae_fun(tf.gather(y_true, indices), tf.gather(y_pred, indices))\n",
        "    mae_diff_4 = tf.square(mae_4-mae)\n",
        "\n",
        "    condition1 = tf.less_equal(y_true, 0.5)\n",
        "    condition2 = tf.greater(y_true, 0.4)\n",
        "    condition = tf.logical_and(condition1, condition2)\n",
        "    indices = tf.where(condition)\n",
        "    mae_5 = mae_fun(tf.gather(y_true, indices), tf.gather(y_pred, indices))\n",
        "    mae_diff_5 = tf.square(mae_5-mae)\n",
        "\n",
        "    condition1 = tf.less_equal(y_true, 0.6)\n",
        "    condition2 = tf.greater(y_true, 0.5)\n",
        "    condition = tf.logical_and(condition1, condition2)\n",
        "    indices = tf.where(condition)\n",
        "    mae_6 = mae_fun(tf.gather(y_true, indices), tf.gather(y_pred, indices))\n",
        "    mae_diff_6 = tf.square(mae_6-mae)\n",
        "\n",
        "    condition1 = tf.less_equal(y_true, 0.7)\n",
        "    condition2 = tf.greater(y_true, 0.6)\n",
        "    condition = tf.logical_and(condition1, condition2)\n",
        "    indices = tf.where(condition)\n",
        "    mae_7 = mae_fun(tf.gather(y_true, indices), tf.gather(y_pred, indices))\n",
        "    mae_diff_7 = tf.square(mae_7-mae)\n",
        "\n",
        "    condition = tf.greater(y_true, 0.7)\n",
        "    indices = tf.where(condition)\n",
        "    mae_8 = mae_fun(tf.gather(y_true, indices), tf.gather(y_pred, indices))\n",
        "    mae_diff_8 = tf.square(mae_8-mae)\n",
        "\n",
        "    mae_temp = tf.stack([mae_1, mae_2, mae_3, mae_4, mae_5, mae_6, mae_7, mae_8], axis=0)\n",
        "    indices = tf.where(tf.logical_not(tf.math.is_nan(mae_temp)))\n",
        "    mae_total = tf.gather(mae_temp, indices)\n",
        "    mmae = tf.reduce_mean(mae_total)\n",
        "    mae_diff_temp = tf.stack([mae_diff_1, mae_diff_2, mae_diff_3, mae_diff_4, mae_diff_5, mae_diff_6, mae_diff_7, mae_diff_8])\n",
        "    variance_temp = tf.gather(mae_diff_temp, indices)\n",
        "    variance = tf.sqrt(tf.reduce_mean(variance_temp))\n",
        "\n",
        "    AAR_loss = 0.5*mmae + 0.5*variance\n",
        "\n",
        "    return AAR_loss"
      ]
    },
    {
      "cell_type": "markdown",
      "metadata": {
        "id": "YtdHPnOVd4WY"
      },
      "source": [
        "## Custom Metric"
      ]
    },
    {
      "cell_type": "code",
      "execution_count": null,
      "metadata": {
        "id": "RotPrSoed7iw"
      },
      "outputs": [],
      "source": [
        "@tf.function\n",
        "def AAR_metric(y_true, y_pred):\n",
        "    y_true = tf.cast(y_true, tf.float32)\n",
        "    y_pred = tf.cast(y_pred, tf.float32)\n",
        "    mae_fun = tf.keras.losses.MeanAbsoluteError()\n",
        "    mae = mae_fun(y_true, y_pred)\n",
        "\n",
        "    condition = tf.less_equal(y_true, 0.1)\n",
        "    indices = tf.where(condition) \n",
        "    mae_1 = mae_fun(tf.gather(y_true, indices), tf.gather(y_pred, indices))\n",
        "    mae_diff_1 = tf.square(mae_1-mae)\n",
        "\n",
        "    condition1 = tf.less_equal(y_true, 0.2)\n",
        "    condition2 = tf.greater(y_true, 0.1)\n",
        "    condition = tf.logical_and(condition1, condition2)\n",
        "    indices = tf.where(condition)\n",
        "    mae_2 = mae_fun(tf.gather(y_true, indices), tf.gather(y_pred, indices))\n",
        "    mae_diff_2 = tf.square(mae_2-mae)\n",
        "\n",
        "    condition1 = tf.less_equal(y_true, 0.3)\n",
        "    condition2 = tf.greater(y_true, 0.2)\n",
        "    condition = tf.logical_and(condition1, condition2)\n",
        "    indices = tf.where(condition)\n",
        "    mae_3 = mae_fun(tf.gather(y_true, indices), tf.gather(y_pred, indices))\n",
        "    mae_diff_3 = tf.square(mae_3-mae)\n",
        "\n",
        "    condition1 = tf.less_equal(y_true, 0.4)\n",
        "    condition2 = tf.greater(y_true, 0.3)\n",
        "    condition = tf.logical_and(condition1, condition2)\n",
        "    indices = tf.where(condition)\n",
        "    mae_4 = mae_fun(tf.gather(y_true, indices), tf.gather(y_pred, indices))\n",
        "    mae_diff_4 = tf.square(mae_4-mae)\n",
        "\n",
        "    condition1 = tf.less_equal(y_true, 0.5)\n",
        "    condition2 = tf.greater(y_true, 0.4)\n",
        "    condition = tf.logical_and(condition1, condition2)\n",
        "    indices = tf.where(condition)\n",
        "    mae_5 = mae_fun(tf.gather(y_true, indices), tf.gather(y_pred, indices))\n",
        "    mae_diff_5 = tf.square(mae_5-mae)\n",
        "\n",
        "    condition1 = tf.less_equal(y_true, 0.6)\n",
        "    condition2 = tf.greater(y_true, 0.5)\n",
        "    condition = tf.logical_and(condition1, condition2)\n",
        "    indices = tf.where(condition)\n",
        "    mae_6 = mae_fun(tf.gather(y_true, indices), tf.gather(y_pred, indices))\n",
        "    mae_diff_6 = tf.square(mae_6-mae)\n",
        "\n",
        "    condition1 = tf.less_equal(y_true, 0.7)\n",
        "    condition2 = tf.greater(y_true, 0.6)\n",
        "    condition = tf.logical_and(condition1, condition2)\n",
        "    indices = tf.where(condition)\n",
        "    mae_7 = mae_fun(tf.gather(y_true, indices), tf.gather(y_pred, indices))\n",
        "    mae_diff_7 = tf.square(mae_7-mae)\n",
        "\n",
        "    condition = tf.greater(y_true, 0.7)\n",
        "    indices = tf.where(condition)\n",
        "    mae_8 = mae_fun(tf.gather(y_true, indices), tf.gather(y_pred, indices))\n",
        "    mae_diff_8 = tf.square(mae_8-mae)\n",
        "\n",
        "    mae_temp = tf.stack([mae_1, mae_2, mae_3, mae_4, mae_5, mae_6, mae_7, mae_8], axis=0)\n",
        "    indices = tf.where(tf.logical_not(tf.math.is_nan(mae_temp)))\n",
        "    mae_total = tf.gather(mae_temp, indices)\n",
        "    mmae = tf.reduce_mean(mae_total)\n",
        "    mae_diff_temp = tf.stack([mae_diff_1, mae_diff_2, mae_diff_3, mae_diff_4, mae_diff_5, mae_diff_6, mae_diff_7, mae_diff_8])\n",
        "    variance_temp = tf.gather(mae_diff_temp, indices)\n",
        "    variance = tf.sqrt(tf.reduce_mean(variance_temp))\n",
        "\n",
        "    #𝐴𝐴𝑅 = max(0; 5 − 𝑚𝑀𝐴𝐸) + max(0; 5 − 𝜎)\n",
        "    AAR = tf.math.maximum(tf.zeros((1,)),tf.constant(5, dtype=tf.float32)-mmae*100)+tf.math.maximum(tf.zeros((1,)),tf.constant(5, dtype=tf.float32)-variance*100)\n",
        "\n",
        "    return AAR"
      ]
    },
    {
      "cell_type": "markdown",
      "metadata": {
        "id": "yrduybtacimv"
      },
      "source": [
        "## Xception model"
      ]
    },
    {
      "cell_type": "code",
      "execution_count": null,
      "metadata": {
        "id": "8ed-0kcHGs4w"
      },
      "outputs": [],
      "source": [
        "model = tf.keras.applications.Xception(\n",
        "    input_shape=(299,299,3),\n",
        "     include_top=False,\n",
        "     weights=\"imagenet\")\n",
        "model.trainable = False\n",
        "model.summary()"
      ]
    },
    {
      "cell_type": "code",
      "execution_count": null,
      "metadata": {
        "colab": {
          "base_uri": "https://localhost:8080/",
          "height": 880
        },
        "id": "gpMe-X3cQNZq",
        "outputId": "04647fee-de3f-40b6-ff40-659e0147aad5"
      },
      "outputs": [
        {
          "name": "stdout",
          "output_type": "stream",
          "text": [
            "Model: \"Final_output\"\n",
            "_________________________________________________________________\n",
            " Layer (type)                Output Shape              Param #   \n",
            "=================================================================\n",
            " input_4 (InputLayer)        [(None, 299, 299, 3)]     0         \n",
            "                                                                 \n",
            " xception (Functional)       (None, 10, 10, 2048)      20861480  \n",
            "                                                                 \n",
            " global_average_pooling2d_1   (None, 2048)             0         \n",
            " (GlobalAveragePooling2D)                                        \n",
            "                                                                 \n",
            " dense_2 (Dense)             (None, 128)               262272    \n",
            "                                                                 \n",
            " dense_3 (Dense)             (None, 1)                 129       \n",
            "                                                                 \n",
            "=================================================================\n",
            "Total params: 21,123,881\n",
            "Trainable params: 262,401\n",
            "Non-trainable params: 20,861,480\n",
            "_________________________________________________________________\n"
          ]
        },
        {
          "data": {
            "image/png": "[encoded data removed]",
            "text/plain": [
              "<IPython.core.display.Image object>"
            ]
          },
          "execution_count": 17,
          "metadata": {},
          "output_type": "execute_result"
        }
      ],
      "source": [
        "input = Input(shape=(299, 299, 3))\n",
        "\n",
        "x = model(input, training=True)\n",
        "x = tf.keras.layers.GlobalAveragePooling2D()(x)\n",
        "x = Dense(128, activation='relu')(x)\n",
        "final_model_output = Dense(1, activation='linear')(x)\n",
        "\n",
        "final_model = Model(inputs=[input], outputs=final_model_output,\n",
        "                    name='Final_output')\n",
        "\n",
        "final_model.summary()"
      ]
    },
    {
      "cell_type": "markdown",
      "metadata": {
        "id": "oryMtcL9GOgM"
      },
      "source": [
        "## Training final layers"
      ]
    },
    {
      "cell_type": "code",
      "execution_count": null,
      "metadata": {
        "colab": {
          "background_save": true,
          "base_uri": "https://localhost:8080/"
        },
        "id": "oDwadT58JSuu",
        "outputId": "bae042b7-ea40-4511-ac3f-3a6a5479a14a"
      },
      "outputs": [
        {
          "name": "stdout",
          "output_type": "stream",
          "text": [
            "Epoch 1/100\n",
            "7188/7188 [==============================] - ETA: 0s - loss: 0.0606 - mae: 0.1048 - AAR_metric: 1.3284"
          ]
        },
        {
          "name": "stderr",
          "output_type": "stream",
          "text": [
            "WARNING:absl:Found untraced functions such as _jit_compiled_convolution_op, _jit_compiled_convolution_op, _jit_compiled_convolution_op, _jit_compiled_convolution_op, _jit_compiled_convolution_op while saving (showing 5 of 40). These functions will not be directly callable after loading.\n"
          ]
        },
        {
          "name": "stdout",
          "output_type": "stream",
          "text": [
            "7188/7188 [==============================] - 8324s 1s/step - loss: 0.0606 - mae: 0.1048 - AAR_metric: 1.3284 - val_loss: 0.0648 - val_mae: 0.1051 - val_AAR_metric: 1.0638\n",
            "Epoch 2/100\n",
            "7188/7188 [==============================] - 8489s 1s/step - loss: 0.0535 - mae: 0.0934 - AAR_metric: 1.6421 - val_loss: 0.0664 - val_mae: 0.0953 - val_AAR_metric: 1.7117\n",
            "Epoch 3/100\n",
            "7188/7188 [==============================] - ETA: 0s - loss: 0.0501 - mae: 0.0888 - AAR_metric: 1.8470"
          ]
        },
        {
          "name": "stderr",
          "output_type": "stream",
          "text": [
            "WARNING:absl:Found untraced functions such as _jit_compiled_convolution_op, _jit_compiled_convolution_op, _jit_compiled_convolution_op, _jit_compiled_convolution_op, _jit_compiled_convolution_op while saving (showing 5 of 40). These functions will not be directly callable after loading.\n"
          ]
        },
        {
          "name": "stdout",
          "output_type": "stream",
          "text": [
            "7188/7188 [==============================] - 8525s 1s/step - loss: 0.0501 - mae: 0.0888 - AAR_metric: 1.8470 - val_loss: 0.0642 - val_mae: 0.0984 - val_AAR_metric: 1.3712\n",
            "Epoch 4/100\n",
            "7188/7188 [==============================] - 8530s 1s/step - loss: 0.0475 - mae: 0.0850 - AAR_metric: 2.0346 - val_loss: 0.0661 - val_mae: 0.0925 - val_AAR_metric: 1.7529\n",
            "Epoch 5/100\n",
            "7188/7188 [==============================] - ETA: 0s - loss: 0.0460 - mae: 0.0829 - AAR_metric: 2.1340"
          ]
        },
        {
          "name": "stderr",
          "output_type": "stream",
          "text": [
            "WARNING:absl:Found untraced functions such as _jit_compiled_convolution_op, _jit_compiled_convolution_op, _jit_compiled_convolution_op, _jit_compiled_convolution_op, _jit_compiled_convolution_op while saving (showing 5 of 40). These functions will not be directly callable after loading.\n"
          ]
        },
        {
          "name": "stdout",
          "output_type": "stream",
          "text": [
            "7188/7188 [==============================] - 8468s 1s/step - loss: 0.0460 - mae: 0.0829 - AAR_metric: 2.1340 - val_loss: 0.0639 - val_mae: 0.0935 - val_AAR_metric: 1.5444\n",
            "Epoch 6/100\n",
            "7188/7188 [==============================] - 8519s 1s/step - loss: 0.0446 - mae: 0.0804 - AAR_metric: 2.2551 - val_loss: 0.0659 - val_mae: 0.0882 - val_AAR_metric: 1.8478\n",
            "Epoch 7/100\n",
            "7188/7188 [==============================] - 8532s 1s/step - loss: 0.0427 - mae: 0.0776 - AAR_metric: 2.4035 - val_loss: 0.0667 - val_mae: 0.0904 - val_AAR_metric: 1.6877\n",
            "Epoch 8/100\n",
            "7188/7188 [==============================] - ETA: 0s - loss: 0.0422 - mae: 0.0765 - AAR_metric: 2.4681"
          ]
        },
        {
          "name": "stderr",
          "output_type": "stream",
          "text": [
            "WARNING:absl:Found untraced functions such as _jit_compiled_convolution_op, _jit_compiled_convolution_op, _jit_compiled_convolution_op, _jit_compiled_convolution_op, _jit_compiled_convolution_op while saving (showing 5 of 40). These functions will not be directly callable after loading.\n"
          ]
        },
        {
          "name": "stdout",
          "output_type": "stream",
          "text": [
            "7188/7188 [==============================] - 8511s 1s/step - loss: 0.0422 - mae: 0.0765 - AAR_metric: 2.4681 - val_loss: 0.0617 - val_mae: 0.0887 - val_AAR_metric: 1.8614\n",
            "Epoch 9/100\n",
            "7188/7188 [==============================] - 8507s 1s/step - loss: 0.0408 - mae: 0.0743 - AAR_metric: 2.5921 - val_loss: 0.0663 - val_mae: 0.0861 - val_AAR_metric: 1.8931\n",
            "Epoch 10/100\n",
            "7188/7188 [==============================] - ETA: 0s - loss: 0.0402 - mae: 0.0732 - AAR_metric: 2.6656"
          ]
        },
        {
          "name": "stderr",
          "output_type": "stream",
          "text": [
            "WARNING:absl:Found untraced functions such as _jit_compiled_convolution_op, _jit_compiled_convolution_op, _jit_compiled_convolution_op, _jit_compiled_convolution_op, _jit_compiled_convolution_op while saving (showing 5 of 40). These functions will not be directly callable after loading.\n"
          ]
        },
        {
          "name": "stdout",
          "output_type": "stream",
          "text": [
            "7188/7188 [==============================] - 8571s 1s/step - loss: 0.0402 - mae: 0.0732 - AAR_metric: 2.6656 - val_loss: 0.0610 - val_mae: 0.0854 - val_AAR_metric: 1.9581\n",
            "Epoch 11/100\n",
            " 664/7188 [=>............................] - ETA: 1:45:25 - loss: 0.0415 - mae: 0.0748 - AAR_metric: 2.5448"
          ]
        }
      ],
      "source": [
        "final_model.compile(optimizer=keras.optimizers.Adam(learning_rate=0.001, clipvalue=1.), loss=AAR_loss, metrics=[\"mae\", AAR_metric])\n",
        "\n",
        "epochs = 100\n",
        "final_model.fit(\n",
        "    train_gen,\n",
        "    workers=20,\n",
        "    steps_per_epoch=(n_train_samples) // batch_size,\n",
        "    epochs=epochs,\n",
        "    validation_data=val_gen,\n",
        "    validation_steps=n_val_samples // batch_size,\n",
        "    callbacks=[ModelCheckpoint('/content/drive/MyDrive/finalProject_AV/GTA_CAIP_Contest_Code/' + 'xception09_initial_training', monitor='val_loss', save_best_only=True),\n",
        "               EarlyStopping(monitor=\"val_loss\", patience=3)])\n"
      ]
    },
    {
      "cell_type": "markdown",
      "metadata": {
        "id": "YMouk0RaxzcS"
      },
      "source": [
        "## Fine tuning\n"
      ]
    },
    {
      "cell_type": "code",
      "execution_count": null,
      "metadata": {
        "colab": {
          "base_uri": "https://localhost:8080/"
        },
        "id": "nKEcA1Box2UA",
        "outputId": "4e9cf394-5783-48e0-9aaf-2940c80282a2"
      },
      "outputs": [
        {
          "name": "stdout",
          "output_type": "stream",
          "text": [
            "Model: \"Final_output\"\n",
            "_________________________________________________________________\n",
            " Layer (type)                Output Shape              Param #   \n",
            "=================================================================\n",
            " input_4 (InputLayer)        [(None, 299, 299, 3)]     0         \n",
            "                                                                 \n",
            " xception (Functional)       (None, 10, 10, 2048)      20861480  \n",
            "                                                                 \n",
            " global_average_pooling2d_1   (None, 2048)             0         \n",
            " (GlobalAveragePooling2D)                                        \n",
            "                                                                 \n",
            " dense_2 (Dense)             (None, 128)               262272    \n",
            "                                                                 \n",
            " dense_3 (Dense)             (None, 1)                 129       \n",
            "                                                                 \n",
            "=================================================================\n",
            "Total params: 21,123,881\n",
            "Trainable params: 21,069,353\n",
            "Non-trainable params: 54,528\n",
            "_________________________________________________________________\n"
          ]
        }
      ],
      "source": [
        "final_model = keras.models.load_model('/content/drive/MyDrive/finalProject_AV/GTA_CAIP_Contest_Code/xception09_initial_training', compile=False)\n",
        "final_model.trainable = True\n",
        "\n",
        "final_model.summary()\n",
        "plot_model(final_model, to_file='finalmodel_plot.png', show_shapes=True, show_layer_names=True)\n",
        "\n",
        "final_model.compile(optimizer=keras.optimizers.Adam(learning_rate=0.0001, clipvalue=1.), loss=AAR_loss, metrics=[\"mae\", AAR_metric])\n",
        "\n",
        "epochs = 100\n",
        "\n",
        "lr_manager = tf.keras.callbacks.ReduceLROnPlateau(\n",
        "    monitor=\"val_loss\",\n",
        "    factor=0.1,\n",
        "    patience=2,\n",
        "    verbose=0,\n",
        "    mode=\"auto\",\n",
        "    min_delta=0.0001,\n",
        "    cooldown=0,\n",
        "    min_lr=0,\n",
        ")"
      ]
    },
    {
      "cell_type": "code",
      "execution_count": null,
      "metadata": {
        "colab": {
          "base_uri": "https://localhost:8080/",
          "height": 591
        },
        "id": "kdOueFRZyAOk",
        "outputId": "5c33fd2f-11d1-4e09-9f48-0763424a4412"
      },
      "outputs": [
        {
          "metadata": {
            "tags": null
          },
          "name": "stdout",
          "output_type": "stream",
          "text": [
            "Epoch 1/100\n",
            "14376/14376 [==============================] - ETA: 0s - loss: 0.0069 - mae: 0.0121 - AAR_metric: 8.6282"
          ]
        },
        {
          "metadata": {
            "tags": null
          },
          "name": "stderr",
          "output_type": "stream",
          "text": [
            "WARNING:absl:Found untraced functions such as _jit_compiled_convolution_op, _jit_compiled_convolution_op, _jit_compiled_convolution_op, _jit_compiled_convolution_op, _jit_compiled_convolution_op while saving (showing 5 of 40). These functions will not be directly callable after loading.\n"
          ]
        },
        {
          "output_type": "stream",
          "name": "stdout",
          "text": [
            "14376/14376 [==============================] - 21246s 1s/step - loss: 0.0069 - mae: 0.0121 - AAR_metric: 8.6282 - val_loss: 0.0075 - val_mae: 0.0123 - val_AAR_metric: 8.4994 - lr: 1.0000e-06\n",
            "Epoch 2/100\n",
            "14376/14376 [==============================] - ETA: 0s - loss: 0.0068 - mae: 0.0120 - AAR_metric: 8.6461"
          ]
        },
        {
          "output_type": "stream",
          "name": "stderr",
          "text": [
            "WARNING:absl:Found untraced functions such as _jit_compiled_convolution_op, _jit_compiled_convolution_op, _jit_compiled_convolution_op, _jit_compiled_convolution_op, _jit_compiled_convolution_op while saving (showing 5 of 40). These functions will not be directly callable after loading.\n"
          ]
        },
        {
          "output_type": "stream",
          "name": "stdout",
          "text": [
            "\b\b\b\b\b\b\b\b\b\b\b\b\b\b\b\b\b\b\b\b\b\b\b\b\b\b\b\b\b\b\b\b\b\b\b\b\b\b\b\b\b\b\b\b\b\b\b\b\b\b\b\b\b\b\b\b\b\b\b\b\b\b\b\b\b\b\b\b\b\b\b\b\b\b\b\b\b\b\b\b\b\b\b\b\b\b\b\b\b\b\b\b\b\b\b\b\b\b\b\b\b\b\b\b\r14376/14376 [==============================] - 21489s 1s/step - loss: 0.0068 - mae: 0.0120 - AAR_metric: 8.6461 - val_loss: 0.0072 - val_mae: 0.0122 - val_AAR_metric: 8.5597 - lr: 1.0000e-06\n "
          ]
        }
      ],
      "source": [
        "final_model.fit(\n",
        "    train_gen,\n",
        "    workers=25,\n",
        "    steps_per_epoch=(n_train_samples) // batch_size,\n",
        "    epochs=epochs,\n",
        "    validation_data=val_gen,\n",
        "    validation_steps=n_val_samples // batch_size,\n",
        "    callbacks=[ModelCheckpoint('/content/drive/MyDrive/finalProject_AV/GTA_CAIP_Contest_Code/' + 'xception09_final', monitor='val_loss', save_best_only=True),\n",
        "               EarlyStopping(monitor=\"val_loss\", patience=5),lr_manager])"
      ]
    }
  ],
  "metadata": {
    "accelerator": "GPU",
    "colab": {
      "provenance": []
    },
    "gpuClass": "standard",
    "kernelspec": {
      "display_name": "Python 3",
      "language": "python",
      "name": "python3"
    },
    "language_info": {
      "codemirror_mode": {
        "name": "ipython",
        "version": 3
      },
      "file_extension": ".py",
      "mimetype": "text/x-python",
      "name": "python",
      "nbconvert_exporter": "python",
      "pygments_lexer": "ipython3",
      "version": "3.6.6"
    }
  },
  "nbformat": 4,
  "nbformat_minor": 0
}